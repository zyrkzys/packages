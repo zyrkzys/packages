{
 "cells": [
  {
   "cell_type": "markdown",
   "metadata": {
    "heading_collapsed": true
   },
   "source": [
    "# Hash Table"
   ]
  },
  {
   "cell_type": "code",
   "execution_count": 21,
   "metadata": {
    "hidden": true
   },
   "outputs": [],
   "source": [
    "class hashTable:\n",
    "    \n",
    "    def __init__(self, size=10):\n",
    "        self.size = size\n",
    "        self.table = [[] for _ in range(self.size)]\n",
    "    \n",
    "    def hash_function(self, key):\n",
    "        return hash(key) % self.size\n",
    "    \n",
    "    def set(self, key, value):\n",
    "        index = self.hash_function(key)\n",
    "        for pair in self.table[index]:\n",
    "            if pair[0] == key:\n",
    "                pair[1] = value\n",
    "                return\n",
    "        self.table[index].append([key, value])\n",
    "        \n",
    "    def get(self, key):\n",
    "        index = self.hash_function(key)\n",
    "        for pair in self.table[index]:\n",
    "            if pair[0] == key:\n",
    "                return pair[1]\n",
    "        raise KeyError(f\"{key} not found in the hash table, uh-oh!\")\n",
    "        \n",
    "    def purge(self, key):\n",
    "        index = self.hash_function(key)\n",
    "        for idx, pair in enumerate(self.table[index]):\n",
    "            if pair[0] == key:\n",
    "                del self.table[index][i]\n",
    "                return\n",
    "        raise KeyError(f\"{key} not found in the hash table, uh-oh!\")\n",
    "        "
   ]
  },
  {
   "cell_type": "code",
   "execution_count": 22,
   "metadata": {
    "hidden": true
   },
   "outputs": [
    {
     "name": "stdout",
     "output_type": "stream",
     "text": [
      "1\n",
      "2\n",
      "3\n"
     ]
    }
   ],
   "source": [
    "hash_table = hashTable()\n",
    "\n",
    "hash_table.set(\"apple\", 1)\n",
    "hash_table.set(\"banana\", 2)\n",
    "hash_table.set(\"orange\", 3)\n",
    "\n",
    "print(hash_table.get(\"apple\"))  # Output: 1\n",
    "print(hash_table.get(\"banana\"))  # Output: 2\n",
    "print(hash_table.get(\"orange\"))  # Output: 3"
   ]
  },
  {
   "cell_type": "markdown",
   "metadata": {},
   "source": [
    "# import csvs"
   ]
  },
  {
   "cell_type": "code",
   "execution_count": 15,
   "metadata": {},
   "outputs": [],
   "source": [
    "import csv"
   ]
  },
  {
   "cell_type": "code",
   "execution_count": 18,
   "metadata": {},
   "outputs": [],
   "source": [
    "with open('WGUPS_Package_File.csv') as csv1:\n",
    "    packages = list(csv.reader(csv1, delimiter=','))    "
   ]
  },
  {
   "cell_type": "code",
   "execution_count": 19,
   "metadata": {},
   "outputs": [
    {
     "data": {
      "text/plain": [
       "[['', '', '', '', '', '', '', ''],\n",
       " ['', '', '', '', '', '', '', ''],\n",
       " ['', '', '', '', '', '', '', ''],\n",
       " ['WGUPS Package File', '', '', '', '', '', '', ''],\n",
       " ['', '', '', '', '', '', '', ''],\n",
       " ['NHP1 : WGUPS Routing Program', '', '', '', '', '', '', ''],\n",
       " ['', '', '', '', '', '', '', ''],\n",
       " ['Package ID',\n",
       "  'Address',\n",
       "  'City ',\n",
       "  'State',\n",
       "  'Zip',\n",
       "  'Delivery Deadline',\n",
       "  'Mass KILO',\n",
       "  'page 1 of 1PageSpecial Notes'],\n",
       " ['1',\n",
       "  '195 W Oakland Ave',\n",
       "  'Salt Lake City',\n",
       "  'UT',\n",
       "  '84115',\n",
       "  '10:30 AM',\n",
       "  '21',\n",
       "  ''],\n",
       " ['2', '2530 S 500 E', 'Salt Lake City', 'UT', '84106', 'EOD', '44', ''],\n",
       " ['3',\n",
       "  '233 Canyon Rd',\n",
       "  'Salt Lake City',\n",
       "  'UT',\n",
       "  '84103',\n",
       "  'EOD',\n",
       "  '2',\n",
       "  'Can only be on truck 2'],\n",
       " ['4', '380 W 2880 S', 'Salt Lake City', 'UT', '84115', 'EOD', '4', ''],\n",
       " ['5', '410 S State St', 'Salt Lake City', 'UT', '84111', 'EOD', '5', ''],\n",
       " ['6',\n",
       "  '3060 Lester St',\n",
       "  'West Valley City',\n",
       "  'UT',\n",
       "  '84119',\n",
       "  '10:30 AM',\n",
       "  '88',\n",
       "  'Delayed on flight---will not arrive to depot until 9:05 am'],\n",
       " ['7', '1330 2100 S', 'Salt Lake City', 'UT', '84106', 'EOD', '8', ''],\n",
       " ['8', '300 State St', 'Salt Lake City', 'UT', '84103', 'EOD', '9', ''],\n",
       " ['9',\n",
       "  '300 State St',\n",
       "  'Salt Lake City',\n",
       "  'UT',\n",
       "  '84103',\n",
       "  'EOD',\n",
       "  '2',\n",
       "  'Wrong address listed'],\n",
       " ['10', '600 E 900 South', 'Salt Lake City', 'UT', '84105', 'EOD', '1', ''],\n",
       " ['11',\n",
       "  '2600 Taylorsville Blvd',\n",
       "  'Salt Lake City',\n",
       "  'UT',\n",
       "  '84118',\n",
       "  'EOD',\n",
       "  '1',\n",
       "  ''],\n",
       " ['12',\n",
       "  '3575 W Valley Central Station bus Loop',\n",
       "  'West Valley City',\n",
       "  'UT',\n",
       "  '84119',\n",
       "  'EOD',\n",
       "  '1',\n",
       "  ''],\n",
       " ['13', '2010 W 500 S', 'Salt Lake City', 'UT', '84104', '10:30 AM', '2', ''],\n",
       " ['14',\n",
       "  '4300 S 1300 E',\n",
       "  'Millcreek',\n",
       "  'UT',\n",
       "  '84117',\n",
       "  '10:30 AM',\n",
       "  '88',\n",
       "  'Must be delivered with 15, 19'],\n",
       " ['15', '4580 S 2300 E', 'Holladay', 'UT', '84117', '9:00 AM', '4', ''],\n",
       " ['16',\n",
       "  '4580 S 2300 E',\n",
       "  'Holladay',\n",
       "  'UT',\n",
       "  '84117',\n",
       "  '10:30 AM',\n",
       "  '88',\n",
       "  'Must be delivered with 13, 19'],\n",
       " ['17', '3148 S 1100 W', 'Salt Lake City', 'UT', '84119', 'EOD', '2', ''],\n",
       " ['18',\n",
       "  '1488 4800 S',\n",
       "  'Salt Lake City',\n",
       "  'UT',\n",
       "  '84123',\n",
       "  'EOD',\n",
       "  '6',\n",
       "  'Can only be on truck 2'],\n",
       " ['19', '177 W Price Ave', 'Salt Lake City', 'UT', '84115', 'EOD', '37', ''],\n",
       " ['20',\n",
       "  '3595 Main St',\n",
       "  'Salt Lake City',\n",
       "  'UT',\n",
       "  '84115',\n",
       "  '10:30 AM',\n",
       "  '37',\n",
       "  'Must be delivered with 13, 15'],\n",
       " ['21', '3595 Main St', 'Salt Lake City', 'UT', '84115', 'EOD', '3', ''],\n",
       " ['22', '6351 South 900 East', 'Murray', 'UT', '84121', 'EOD', '2', ''],\n",
       " ['23',\n",
       "  '5100 South 2700 West',\n",
       "  'Salt Lake City',\n",
       "  'UT',\n",
       "  '84118',\n",
       "  'EOD',\n",
       "  '5',\n",
       "  ''],\n",
       " ['24', '5025 State St', 'Murray', 'UT', '84107', 'EOD', '7', ''],\n",
       " ['25',\n",
       "  '5383 South 900 East #104',\n",
       "  'Salt Lake City',\n",
       "  'UT',\n",
       "  '84117',\n",
       "  '10:30 AM',\n",
       "  '7',\n",
       "  'Delayed on flight---will not arrive to depot until 9:05 am'],\n",
       " ['26',\n",
       "  '5383 South 900 East #104',\n",
       "  'Salt Lake City',\n",
       "  'UT',\n",
       "  '84117',\n",
       "  'EOD',\n",
       "  '25',\n",
       "  ''],\n",
       " ['27', '1060 Dalton Ave S', 'Salt Lake City', 'UT', '84104', 'EOD', '5', ''],\n",
       " ['28',\n",
       "  '2835 Main St',\n",
       "  'Salt Lake City',\n",
       "  'UT',\n",
       "  '84115',\n",
       "  'EOD',\n",
       "  '7',\n",
       "  'Delayed on flight---will not arrive to depot until 9:05 am'],\n",
       " ['29', '1330 2100 S', 'Salt Lake City', 'UT', '84106', '10:30 AM', '2', ''],\n",
       " ['30', '300 State St', 'Salt Lake City', 'UT', '84103', '10:30 AM', '1', ''],\n",
       " ['31', '3365 S 900 W', 'Salt Lake City', 'UT', '84119', '10:30 AM', '1', ''],\n",
       " ['32',\n",
       "  '3365 S 900 W',\n",
       "  'Salt Lake City',\n",
       "  'UT',\n",
       "  '84119',\n",
       "  'EOD',\n",
       "  '1',\n",
       "  'Delayed on flight---will not arrive to depot until 9:05 am'],\n",
       " ['33', '2530 S 500 E', 'Salt Lake City', 'UT', '84106', 'EOD', '1', ''],\n",
       " ['34', '4580 S 2300 E', 'Holladay', 'UT', '84117', '10:30 AM', '2', ''],\n",
       " ['35', '1060 Dalton Ave S', 'Salt Lake City', 'UT', '84104', 'EOD', '88', ''],\n",
       " ['36',\n",
       "  '2300 Parkway Blvd',\n",
       "  'West Valley City',\n",
       "  'UT',\n",
       "  '84119',\n",
       "  'EOD',\n",
       "  '88',\n",
       "  'Can only be on truck 2'],\n",
       " ['37',\n",
       "  '410 S State St',\n",
       "  'Salt Lake City',\n",
       "  'UT',\n",
       "  '84111',\n",
       "  '10:30 AM',\n",
       "  '2',\n",
       "  ''],\n",
       " ['38',\n",
       "  '410 S State St',\n",
       "  'Salt Lake City',\n",
       "  'UT',\n",
       "  '84111',\n",
       "  'EOD',\n",
       "  '9',\n",
       "  'Can only be on truck 2'],\n",
       " ['39', '2010 W 500 S', 'Salt Lake City', 'UT', '84104', 'EOD', '9', ''],\n",
       " ['40', '380 W 2880 S', 'Salt Lake City', 'UT', '84115', '10:30 AM', '45', '']]"
      ]
     },
     "execution_count": 19,
     "metadata": {},
     "output_type": "execute_result"
    }
   ],
   "source": [
    "packages"
   ]
  },
  {
   "cell_type": "markdown",
   "metadata": {},
   "source": [
    "# packages"
   ]
  },
  {
   "cell_type": "code",
   "execution_count": null,
   "metadata": {},
   "outputs": [],
   "source": [
    "three trucks\n",
    "two drivers\n",
    "16 packages per truck\n",
    "each truck goes 18 miles per hour \n",
    "40 total packages to deliver\n",
    "\n",
    "each truck can be fully loaded and the first driver back drives the last truck"
   ]
  },
  {
   "cell_type": "code",
   "execution_count": 2,
   "metadata": {},
   "outputs": [],
   "source": [
    "class Package:\n",
    "    \n",
    "    # instantiate the object & its attributes, which we pass in upon creation\n",
    "    def __init__(self, ident, address, city, deadline, mass, status, zipcode):\n",
    "        self.id = ident\n",
    "        self.address = address\n",
    "        self.city = city\n",
    "        self.deadline = deadline\n",
    "        self.mass = mass\n",
    "        self.status = status\n",
    "        self.zipcode = zipcode\n",
    "        self.timeOfDelivery = None\n",
    "        self.timeOfDeparture = None\n",
    "    \n",
    "    # update the object's dunder str function to return its attributes when printed\n",
    "    def __str__(self):\n",
    "        return f\"{self.id}, {self.address}, {self.city}, {self.deadline}, \\\n",
    "                 {self.mass}, {self.status}, {self.zipcode}\"\n",
    "    \n",
    "    # allow the package's status to be updated as necessary based on time\n",
    "    def update(self, time):\n",
    "        if self.timeOfDelivery < time: self.status = 'Delivered'\n",
    "        if self.timeOfDeparture > time: self.status = 'En route'\n",
    "        else: self.status = 'At hub'\n"
   ]
  },
  {
   "cell_type": "code",
   "execution_count": 3,
   "metadata": {},
   "outputs": [],
   "source": [
    "class Truck:\n",
    "    \n",
    "    # instantiate the object & its attributes, which we pass in upon creation\n",
    "    def __init__(self, ident, address, miles, packages, spaceFilled, spaceTotal, speed, timeOfDeparture):\n",
    "        self.id = ident\n",
    "        self.address = address\n",
    "        self.miles = miles\n",
    "        self.pacakges = packages \n",
    "        self.spaceFilled = spaceFilled\n",
    "        self.spaceTotal = spaceTotal\n",
    "        self.speed = speed\n",
    "        self.timeOfDeparture = timeOfDeparture\n",
    "    \n",
    "    # update the dunder str method of the truck to return its attributes   \n",
    "    def __str__(self):\n",
    "        return f\"{self.id}, {self.address}, {self.miles}, {self.speed} \\\n",
    "                 {self.pacakges}, {self.spaceFilled}, {self.spaceTotal}, {self.timeOfDeparture}\"\n",
    "    "
   ]
  },
  {
   "cell_type": "markdown",
   "metadata": {},
   "source": [
    "# hash map"
   ]
  },
  {
   "cell_type": "code",
   "execution_count": 21,
   "metadata": {},
   "outputs": [],
   "source": [
    "class hashMap:\n",
    "    \n",
    "    #\n",
    "    def __init__(self, size=10):\n",
    "        self.storage = [[] for i in range(size)]\n",
    "    \n",
    "    def __str__(self):\n",
    "        return f\"{self.storage}\"\n",
    "            \n",
    "    # both adds and modifies items in the hash table\n",
    "    def load(self, key, data):\n",
    "        node = hash(key) % len(self.storage) # modulo division over size of storage to obtain key\n",
    "        nodes = self.storage[node] # lookup this key and put its key-value pair in ```nodes``` \n",
    "        \n",
    "        for element in nodes:\n",
    "            if node[0] == key: # match against existing keys of key-value structure\n",
    "                node[1] = data # found old data is now updated\n",
    "                break # use a break to escape for loop early if value found & updated\n",
    "            else:\n",
    "                nodes.append([key, data]) # make a new node and slap it in there\n",
    "    \n",
    "    # need a 'getter' - this function will retrieve the value for a particular key \n",
    "    def show(self, key):\n",
    "        node = hash(key) % len(self.storage) # modulo division over size of storage to obtain key\n",
    "        nodes = self.storage[node] # lookup this key and put its key-value pair in ```nodes```\n",
    "        \n",
    "        for nodule in nodes: # loop over all nodes - O(n) complexity\n",
    "            if node[0] == key: # if the node over which we are looping is indeed THE node...\n",
    "                return node[1] # ...proffer to the glorious user the data they seek\n",
    "        return None # if not found, full O(n) complexity, and returns None type to indicate failure\n",
    "    \n",
    "    # all things must end - this function removes key-value pairs by key\n",
    "    def purge(self, key):\n",
    "        node = hash(key) % len(self.storage)\n",
    "        nodes = self.storage[node]\n",
    "        \n",
    "        if key in nodes: # compare the retrieved key-value pair and assay for the key\n",
    "            nodes.remove(key) # remove the key from the key-value pair, liberating it\n",
    "    "
   ]
  },
  {
   "cell_type": "code",
   "execution_count": 22,
   "metadata": {},
   "outputs": [
    {
     "name": "stdout",
     "output_type": "stream",
     "text": [
      "[[], [], [], [], [], [], [], [], [], []]\n"
     ]
    }
   ],
   "source": [
    "hashy = hashMap()\n",
    "print(hashy)"
   ]
  },
  {
   "cell_type": "markdown",
   "metadata": {},
   "source": [
    "# main"
   ]
  },
  {
   "cell_type": "code",
   "execution_count": null,
   "metadata": {},
   "outputs": [],
   "source": [
    "# Bill Thompson, Student ID: 010209375"
   ]
  },
  {
   "cell_type": "code",
   "execution_count": 35,
   "metadata": {},
   "outputs": [
    {
     "name": "stdout",
     "output_type": "stream",
     "text": [
      "_|          _|    _|_|_|  _|    _|  _|_|_|      _|_|_|\n",
      "_|          _|  _|        _|    _|  _|    _|  _|\n",
      "_|    _|    _|  _|  _|_|  _|    _|  _|_|_|      _|_|\n",
      "  _|  _|  _|    _|    _|  _|    _|  _|              _|\n",
      "    _|  _|        _|_|_|    _|_|    _|        _|_|_|\n",
      "Welcome to the WGUPS Package Routing and Reporting System!\n",
      "\n",
      " \tEnter '1' to see all packages' statuses\n",
      " \tEnter '2' to move to the individual package interface\n",
      " \tEnter 'q' or 'quit' to egress the program\n",
      "3\n",
      "Sorry, try again\n",
      "2\n",
      "entered two\n"
     ]
    }
   ],
   "source": [
    "class Main:\n",
    "    # we gently introduce the user to the program\n",
    "    print(\n",
    "    '_|          _|    _|_|_|  _|    _|  _|_|_|      _|_|_|\\n'+\n",
    "    '_|          _|  _|        _|    _|  _|    _|  _|\\n'+\n",
    "    '_|    _|    _|  _|  _|_|  _|    _|  _|_|_|      _|_|\\n'+\n",
    "    '  _|  _|  _|    _|    _|  _|    _|  _|              _|\\n'+\n",
    "    '    _|  _|        _|_|_|    _|_|    _|        _|_|_|\\n'+\n",
    "    'Welcome to the WGUPS Package Routing and Reporting System!'\n",
    "    )\n",
    "    print(\"\\n \\tEnter '1' to see all packages' statuses\\n\",\n",
    "          \"\\tEnter '2' to move to the individual package interface\\n\",\n",
    "          \"\\tEnter 'q' or 'quit' to egress the program\")\n",
    "    userInput = input(\"\")\n",
    "    while userInput != \" \":\n",
    "        if userInput == \"1\":\n",
    "            print('You entered one!')\n",
    "            break\n",
    "        elif userInput == \"2\":\n",
    "            print('You entered two!')\n",
    "            break\n",
    "        elif userInput == \"q\" or userInput == \"quit\":\n",
    "            print('You have chosen to quit - goodbye!')\n",
    "            break\n",
    "        else:\n",
    "            print('Sorry, try again')\n",
    "            userInput = input(\"\")"
   ]
  },
  {
   "cell_type": "code",
   "execution_count": null,
   "metadata": {},
   "outputs": [],
   "source": []
  },
  {
   "cell_type": "markdown",
   "metadata": {},
   "source": [
    "# "
   ]
  }
 ],
 "metadata": {
  "kernelspec": {
   "display_name": "Python 3 (ipykernel)",
   "language": "python",
   "name": "python3"
  },
  "language_info": {
   "codemirror_mode": {
    "name": "ipython",
    "version": 3
   },
   "file_extension": ".py",
   "mimetype": "text/x-python",
   "name": "python",
   "nbconvert_exporter": "python",
   "pygments_lexer": "ipython3",
   "version": "3.8.10"
  }
 },
 "nbformat": 4,
 "nbformat_minor": 4
}
